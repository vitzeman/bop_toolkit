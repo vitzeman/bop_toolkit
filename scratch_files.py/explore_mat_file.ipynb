{
 "cells": [
  {
   "cell_type": "code",
   "execution_count": 1,
   "metadata": {},
   "outputs": [
    {
     "name": "stdout",
     "output_type": "stream",
     "text": [
      "Jupyter environment detected. Enabling Open3D WebVisualizer.\n",
      "[Open3D INFO] WebRTC GUI backend enabled.\n",
      "[Open3D INFO] WebRTCWindowSystem: HTTP handshake server disabled.\n"
     ]
    }
   ],
   "source": [
    "import json\n",
    "import os\n",
    "import csv\n",
    "import shutil\n",
    "\n",
    "import open3d as o3d\n",
    "import numpy as np\n",
    "import cv2\n",
    "import scipy.io"
   ]
  },
  {
   "cell_type": "code",
   "execution_count": 4,
   "metadata": {},
   "outputs": [
    {
     "name": "stdout",
     "output_type": "stream",
     "text": [
      "/home/testbed/Projects/bop_toolkit\n",
      "Processing set1\n",
      "set_id 1\n",
      "Processing scene1\n",
      "<class 'dict'>\n"
     ]
    }
   ],
   "source": [
    "print(os.getcwd())\n",
    "\n",
    "orig_dataset_path = \"clearpose_downsample_100\"\n",
    "bop_test_folder = os.path.join(orig_dataset_path + \"_bop\", \"test\")\n",
    "for elem in sorted(os.listdir(orig_dataset_path)):\n",
    "    if \"set\" not in elem:\n",
    "        continue\n",
    "    print(f\"Processing {elem}\")\n",
    "    set_id = int(elem.strip(\"set\"))\n",
    "    print(\"set_id\", set_id)\n",
    "\n",
    "    set_directory = os.path.join(orig_dataset_path, elem)\n",
    "    for scene in sorted(os.listdir(set_directory)):\n",
    "        scene_id = int(scene.strip(\"scene\"))\n",
    "        print(f\"Processing {scene}\")\n",
    "        bop_scene_name = str(set_id*1000 + scene_id)\n",
    "        bop_scene_folder = os.path.join(bop_test_folder, bop_scene_name)\n",
    "        os.makedirs(bop_scene_folder, exist_ok=True)\n",
    "        scene_directory = os.path.join(set_directory, scene)\n",
    "        \n",
    "        mat_file = os.path.join(scene_directory, \"metadata.mat\")\n",
    "        mat = scipy.io.loadmat(mat_file)\n",
    "        # print(mat)\n",
    "\n",
    "        print(type(mat))\n",
    "\n",
    "        break\n",
    "    break"
   ]
  },
  {
   "cell_type": "code",
   "execution_count": 38,
   "metadata": {},
   "outputs": [
    {
     "name": "stdout",
     "output_type": "stream",
     "text": [
      "(1,)\n",
      "('cls_indexes', 'center', 'factor_depth', 'intrinsic_matrix', 'poses', 'rotation_translation_matrix', 'bbox')\n",
      "<class 'numpy.ndarray'> (14, 1)\n",
      "<class 'numpy.ndarray'> (14, 2)\n",
      "<class 'numpy.ndarray'> (1, 1)\n",
      "<class 'numpy.ndarray'> (3, 3)\n",
      "<class 'numpy.ndarray'> (3, 4, 14)\n",
      "<class 'numpy.ndarray'> (3, 4)\n",
      "<class 'numpy.ndarray'> (14, 4)\n"
     ]
    }
   ],
   "source": [
    "# print(mat.keys())\n",
    "for key in mat.keys():\n",
    "    if key.startswith(\"__\"):\n",
    "        continue\n",
    "    anotations = mat[key][0]\n",
    "    print(anotations.shape)\n",
    "    labels = anotations.dtype.names\n",
    "    print(labels)\n",
    "\n",
    "    a = anotations[0].tolist()\n",
    "    cls_indexes, centers, depth_factor, K, T_C2O, T_W2C, bbox = a\n",
    "    print(type(cls_indexes), cls_indexes.shape)\n",
    "    print(type(centers), centers.shape)\n",
    "    print(type(depth_factor), depth_factor.shape)\n",
    "    print(type(K), K.shape)\n",
    "    print(type(T_C2O), T_C2O.shape)\n",
    "    print(type(T_W2C), T_W2C.shape)\n",
    "    print(type(bbox), bbox.shape)\n",
    "\n",
    "\n",
    "    break"
   ]
  }
 ],
 "metadata": {
  "kernelspec": {
   "display_name": "bop",
   "language": "python",
   "name": "python3"
  },
  "language_info": {
   "codemirror_mode": {
    "name": "ipython",
    "version": 3
   },
   "file_extension": ".py",
   "mimetype": "text/x-python",
   "name": "python",
   "nbconvert_exporter": "python",
   "pygments_lexer": "ipython3",
   "version": "3.7.12"
  }
 },
 "nbformat": 4,
 "nbformat_minor": 2
}
